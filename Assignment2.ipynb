{
  "nbformat": 4,
  "nbformat_minor": 0,
  "metadata": {
    "colab": {
      "provenance": [],
      "authorship_tag": "ABX9TyOkcZOcHREgywa970zucggf",
      "include_colab_link": true
    },
    "kernelspec": {
      "name": "python3",
      "display_name": "Python 3"
    },
    "language_info": {
      "name": "python"
    }
  },
  "cells": [
    {
      "cell_type": "markdown",
      "metadata": {
        "id": "view-in-github",
        "colab_type": "text"
      },
      "source": [
        "<a href=\"https://colab.research.google.com/github/Shahin-Alam2/AI/blob/main/Assignment2.ipynb\" target=\"_parent\"><img src=\"https://colab.research.google.com/assets/colab-badge.svg\" alt=\"Open In Colab\"/></a>"
      ]
    },
    {
      "cell_type": "markdown",
      "source": [
        "#Import necessary modules files"
      ],
      "metadata": {
        "id": "hzPcW7vaX_fH"
      }
    },
    {
      "cell_type": "code",
      "execution_count": 6,
      "metadata": {
        "id": "KKOEOTN5X588"
      },
      "outputs": [],
      "source": [
        "\n",
        "from tensorflow.keras.layers import Input,Conv2D,MaxPooling2D,Flatten,Dense\n",
        "from keras.models import Model\n",
        "from tensorflow.keras.applications import vgg16"
      ]
    },
    {
      "cell_type": "markdown",
      "source": [
        "#Original VGG16 Architecture"
      ],
      "metadata": {
        "id": "BBhiRF_kYBes"
      }
    },
    {
      "cell_type": "code",
      "source": [
        "original_vgg16 = vgg16.VGG16()\n",
        "original_vgg16.summary()\n"
      ],
      "metadata": {
        "colab": {
          "base_uri": "https://localhost:8080/"
        },
        "id": "_KNYAPpXX-bs",
        "outputId": "704096b7-6f25-4548-bed8-76faa2edeeb6"
      },
      "execution_count": 7,
      "outputs": [
        {
          "output_type": "stream",
          "name": "stdout",
          "text": [
            "Model: \"vgg16\"\n",
            "_________________________________________________________________\n",
            " Layer (type)                Output Shape              Param #   \n",
            "=================================================================\n",
            " input_4 (InputLayer)        [(None, 224, 224, 3)]     0         \n",
            "                                                                 \n",
            " block1_conv1 (Conv2D)       (None, 224, 224, 64)      1792      \n",
            "                                                                 \n",
            " block1_conv2 (Conv2D)       (None, 224, 224, 64)      36928     \n",
            "                                                                 \n",
            " block1_pool (MaxPooling2D)  (None, 112, 112, 64)      0         \n",
            "                                                                 \n",
            " block2_conv1 (Conv2D)       (None, 112, 112, 128)     73856     \n",
            "                                                                 \n",
            " block2_conv2 (Conv2D)       (None, 112, 112, 128)     147584    \n",
            "                                                                 \n",
            " block2_pool (MaxPooling2D)  (None, 56, 56, 128)       0         \n",
            "                                                                 \n",
            " block3_conv1 (Conv2D)       (None, 56, 56, 256)       295168    \n",
            "                                                                 \n",
            " block3_conv2 (Conv2D)       (None, 56, 56, 256)       590080    \n",
            "                                                                 \n",
            " block3_conv3 (Conv2D)       (None, 56, 56, 256)       590080    \n",
            "                                                                 \n",
            " block3_pool (MaxPooling2D)  (None, 28, 28, 256)       0         \n",
            "                                                                 \n",
            " block4_conv1 (Conv2D)       (None, 28, 28, 512)       1180160   \n",
            "                                                                 \n",
            " block4_conv2 (Conv2D)       (None, 28, 28, 512)       2359808   \n",
            "                                                                 \n",
            " block4_conv3 (Conv2D)       (None, 28, 28, 512)       2359808   \n",
            "                                                                 \n",
            " block4_pool (MaxPooling2D)  (None, 14, 14, 512)       0         \n",
            "                                                                 \n",
            " block5_conv1 (Conv2D)       (None, 14, 14, 512)       2359808   \n",
            "                                                                 \n",
            " block5_conv2 (Conv2D)       (None, 14, 14, 512)       2359808   \n",
            "                                                                 \n",
            " block5_conv3 (Conv2D)       (None, 14, 14, 512)       2359808   \n",
            "                                                                 \n",
            " block5_pool (MaxPooling2D)  (None, 7, 7, 512)         0         \n",
            "                                                                 \n",
            " flatten (Flatten)           (None, 25088)             0         \n",
            "                                                                 \n",
            " fc1 (Dense)                 (None, 4096)              102764544 \n",
            "                                                                 \n",
            " fc2 (Dense)                 (None, 4096)              16781312  \n",
            "                                                                 \n",
            " predictions (Dense)         (None, 1000)              4097000   \n",
            "                                                                 \n",
            "=================================================================\n",
            "Total params: 138357544 (527.79 MB)\n",
            "Trainable params: 138357544 (527.79 MB)\n",
            "Non-trainable params: 0 (0.00 Byte)\n",
            "_________________________________________________________________\n"
          ]
        }
      ]
    },
    {
      "cell_type": "markdown",
      "source": [
        "#Building a model alike VGG16"
      ],
      "metadata": {
        "id": "9JT1H_0jYOkh"
      }
    },
    {
      "cell_type": "code",
      "source": [
        "inputs = Input((224,224,3))\n",
        "x = Conv2D(filters = 64, kernel_size = (3,3), padding='same')(inputs)\n",
        "x = Conv2D(filters = 64, kernel_size = (3,3), padding='same')(x)\n",
        "x = MaxPooling2D()(x)\n",
        "x = Conv2D(filters = 128, kernel_size = (3,3), padding='same')(x)\n",
        "x = Conv2D(filters = 128, kernel_size = (3,3), padding='same')(x)\n",
        "x = MaxPooling2D()(x)\n",
        "x = Conv2D(filters = 256, kernel_size = (3,3), padding='same')(x)\n",
        "x = Conv2D(filters = 256, kernel_size = (3,3), padding='same')(x)\n",
        "x = Conv2D(filters = 256, kernel_size = (3,3), padding='same')(x)\n",
        "x = MaxPooling2D()(x)\n",
        "x = Conv2D(filters = 512, kernel_size = (3,3), padding='same')(x)\n",
        "x = Conv2D(filters = 512, kernel_size = (3,3), padding='same')(x)\n",
        "x = Conv2D(filters = 512, kernel_size = (3,3), padding='same')(x)\n",
        "x = MaxPooling2D()(x)\n",
        "x = Conv2D(filters = 512, kernel_size = (3,3), padding='same')(x)\n",
        "x = Conv2D(filters = 512, kernel_size = (3,3), padding='same')(x)\n",
        "x = Conv2D(filters = 512, kernel_size = (3,3),)(x)\n",
        "x = MaxPooling2D()(x)\n",
        "\n",
        "x = Flatten()(x)\n",
        "\n",
        "#Dense Layers\n",
        "x = Dense(4096,activation='relu')(x)\n",
        "x = Dense(4096,activation='relu')(x)\n",
        "\n",
        "#\n",
        "outputs = Dense(1000, activation = 'sigmoid', name='simple_CNN')(x)\n",
        "model = Model(inputs, outputs)\n",
        "model.summary()"
      ],
      "metadata": {
        "colab": {
          "base_uri": "https://localhost:8080/"
        },
        "id": "Snfi1aoDYPES",
        "outputId": "a71e9b0c-20ec-4041-954a-a6d935a05b1f"
      },
      "execution_count": 11,
      "outputs": [
        {
          "output_type": "stream",
          "name": "stdout",
          "text": [
            "Model: \"model_4\"\n",
            "_________________________________________________________________\n",
            " Layer (type)                Output Shape              Param #   \n",
            "=================================================================\n",
            " input_7 (InputLayer)        [(None, 224, 224, 3)]     0         \n",
            "                                                                 \n",
            " conv2d_47 (Conv2D)          (None, 224, 224, 64)      1792      \n",
            "                                                                 \n",
            " conv2d_48 (Conv2D)          (None, 224, 224, 64)      36928     \n",
            "                                                                 \n",
            " max_pooling2d_18 (MaxPooli  (None, 112, 112, 64)      0         \n",
            " ng2D)                                                           \n",
            "                                                                 \n",
            " conv2d_49 (Conv2D)          (None, 112, 112, 128)     73856     \n",
            "                                                                 \n",
            " conv2d_50 (Conv2D)          (None, 112, 112, 128)     147584    \n",
            "                                                                 \n",
            " max_pooling2d_19 (MaxPooli  (None, 56, 56, 128)       0         \n",
            " ng2D)                                                           \n",
            "                                                                 \n",
            " conv2d_51 (Conv2D)          (None, 56, 56, 256)       295168    \n",
            "                                                                 \n",
            " conv2d_52 (Conv2D)          (None, 56, 56, 256)       590080    \n",
            "                                                                 \n",
            " conv2d_53 (Conv2D)          (None, 56, 56, 256)       590080    \n",
            "                                                                 \n",
            " max_pooling2d_20 (MaxPooli  (None, 28, 28, 256)       0         \n",
            " ng2D)                                                           \n",
            "                                                                 \n",
            " conv2d_54 (Conv2D)          (None, 28, 28, 512)       1180160   \n",
            "                                                                 \n",
            " conv2d_55 (Conv2D)          (None, 28, 28, 512)       2359808   \n",
            "                                                                 \n",
            " conv2d_56 (Conv2D)          (None, 26, 26, 512)       2359808   \n",
            "                                                                 \n",
            " max_pooling2d_21 (MaxPooli  (None, 13, 13, 512)       0         \n",
            " ng2D)                                                           \n",
            "                                                                 \n",
            " flatten_4 (Flatten)         (None, 86528)             0         \n",
            "                                                                 \n",
            " dense_6 (Dense)             (None, 2048)              177211392 \n",
            "                                                                 \n",
            " dense_7 (Dense)             (None, 2048)              4196352   \n",
            "                                                                 \n",
            " simple_CNN (Dense)          (None, 820)               1680180   \n",
            "                                                                 \n",
            "=================================================================\n",
            "Total params: 190723188 (727.55 MB)\n",
            "Trainable params: 190723188 (727.55 MB)\n",
            "Non-trainable params: 0 (0.00 Byte)\n",
            "_________________________________________________________________\n"
          ]
        }
      ]
    },
    {
      "cell_type": "markdown",
      "source": [
        "#Transfer weights of pre-trained VGG16"
      ],
      "metadata": {
        "id": "p4-BhkjBYW5h"
      }
    },
    {
      "cell_type": "code",
      "source": [
        "for i in range(len(model.layers)):\n",
        "    model.layers[i].set_weights(model.layers[i].get_weights())\n",
        "model.weights[:1]"
      ],
      "metadata": {
        "colab": {
          "base_uri": "https://localhost:8080/"
        },
        "id": "spoRQnTAYXeu",
        "outputId": "e72a6eb6-c4c4-4b42-a7b1-4e5acda271fc"
      },
      "execution_count": 12,
      "outputs": [
        {
          "output_type": "execute_result",
          "data": {
            "text/plain": [
              "[<tf.Variable 'conv2d_47/kernel:0' shape=(3, 3, 3, 64) dtype=float32, numpy=\n",
              " array([[[[-0.05644219, -0.0074813 ,  0.03641333, ...,  0.0856344 ,\n",
              "            0.09598391,  0.04331698],\n",
              "          [ 0.08171481, -0.03992814,  0.06111903, ...,  0.00012664,\n",
              "            0.05003364,  0.07753798],\n",
              "          [ 0.07153201, -0.07245945,  0.06582277, ..., -0.0929989 ,\n",
              "           -0.01951595, -0.00528701]],\n",
              " \n",
              "         [[ 0.07441147,  0.04568595, -0.06613895, ..., -0.07591078,\n",
              "            0.02987099,  0.0190734 ],\n",
              "          [-0.00233054, -0.01288435, -0.0360798 , ..., -0.00810776,\n",
              "           -0.03793474, -0.05036141],\n",
              "          [ 0.096155  , -0.00499164,  0.03493841, ..., -0.01811513,\n",
              "            0.07492626,  0.00522944]],\n",
              " \n",
              "         [[ 0.09423114,  0.05206192, -0.05108583, ..., -0.00622463,\n",
              "           -0.08781955, -0.08006411],\n",
              "          [-0.03254525, -0.0396187 ,  0.05595027, ...,  0.08646616,\n",
              "            0.02755193,  0.00788444],\n",
              "          [-0.02744693,  0.01721133,  0.03738847, ...,  0.03659803,\n",
              "            0.04165328,  0.02745518]]],\n",
              " \n",
              " \n",
              "        [[[-0.07024649, -0.06612018,  0.06732008, ..., -0.06508895,\n",
              "           -0.05225521,  0.09855463],\n",
              "          [ 0.00329071,  0.0398289 ,  0.02220144, ...,  0.02708313,\n",
              "            0.07073303,  0.06865302],\n",
              "          [-0.09839945, -0.04504194,  0.08200027, ..., -0.07619862,\n",
              "           -0.09922183, -0.020745  ]],\n",
              " \n",
              "         [[-0.00721886, -0.00865884,  0.02757776, ..., -0.05839342,\n",
              "            0.04454343,  0.09645887],\n",
              "          [ 0.08028188,  0.08683933,  0.00394692, ..., -0.08289099,\n",
              "            0.03858148,  0.04590274],\n",
              "          [ 0.07464801,  0.07011943, -0.07067593, ..., -0.05464671,\n",
              "            0.01973629, -0.04290254]],\n",
              " \n",
              "         [[ 0.00596678, -0.01287685,  0.09362334, ...,  0.08094558,\n",
              "            0.01591407, -0.01627834],\n",
              "          [-0.00988155,  0.0625463 , -0.09563464, ..., -0.00010928,\n",
              "           -0.07500926, -0.08852406],\n",
              "          [ 0.00073031,  0.02320016, -0.0068254 , ..., -0.08918631,\n",
              "           -0.03427516,  0.02382455]]],\n",
              " \n",
              " \n",
              "        [[[-0.06767558, -0.01994839, -0.02041333, ...,  0.00950555,\n",
              "            0.09219356, -0.04332799],\n",
              "          [ 0.06588659,  0.04397428,  0.0247635 , ..., -0.02043951,\n",
              "            0.02302738,  0.0861938 ],\n",
              "          [-0.02226851,  0.09562147, -0.0204592 , ..., -0.0419394 ,\n",
              "            0.0023166 ,  0.04232185]],\n",
              " \n",
              "         [[-0.02970967, -0.01715418,  0.03938638, ...,  0.03593889,\n",
              "            0.05485754,  0.05076043],\n",
              "          [ 0.02386795,  0.06431374,  0.06314144, ..., -0.03273458,\n",
              "           -0.04618369,  0.02370411],\n",
              "          [-0.088857  ,  0.09693138,  0.08913118, ..., -0.02263502,\n",
              "            0.07984658, -0.03215964]],\n",
              " \n",
              "         [[-0.08165316,  0.09166716, -0.05361341, ..., -0.04340773,\n",
              "           -0.01084557,  0.04360232],\n",
              "          [-0.0707566 , -0.05594233, -0.02618475, ..., -0.03660318,\n",
              "            0.0081674 ,  0.03413421],\n",
              "          [ 0.05998214, -0.01918915,  0.03141132, ..., -0.07205455,\n",
              "           -0.07290473, -0.07056177]]]], dtype=float32)>]"
            ]
          },
          "metadata": {},
          "execution_count": 12
        }
      ]
    },
    {
      "cell_type": "markdown",
      "source": [
        "# Building a CNN that is not exactly like VGG16\n"
      ],
      "metadata": {
        "id": "bl1Eqo5tYb_3"
      }
    },
    {
      "cell_type": "code",
      "source": [
        "inputs = Input((200,200,3))\n",
        "x = Conv2D(filters = 64, kernel_size = (4,4), padding='same')(inputs)\n",
        "x = Conv2D(filters = 64, kernel_size = (4,4), padding='same')(x)\n",
        "x = Conv2D(filters = 64, kernel_size = (4,4), padding='same')(x)\n",
        "x = MaxPooling2D()(x)\n",
        "x = Conv2D(filters = 128, kernel_size = (4,4), padding='same')(x)\n",
        "x = Conv2D(filters = 128, kernel_size = (4,4), padding='same')(x)\n",
        "x = Conv2D(filters = 128, kernel_size = (4,4), padding='same')(x)\n",
        "x = MaxPooling2D()(x)\n",
        "x = Conv2D(filters = 512, kernel_size = (4,4), padding='same')(x)\n",
        "x = Conv2D(filters = 512, kernel_size = (4,4), padding='same')(x)\n",
        "x = MaxPooling2D()(x)\n",
        "x = Conv2D(filters = 1024, kernel_size = (4,4), padding='same')(x)\n",
        "x = Conv2D(filters = 1024, kernel_size = (4,4), padding='same')(x)\n",
        "x = Conv2D(filters = 1024, kernel_size = (4,4), padding='same')(x)\n",
        "x = MaxPooling2D()(x)\n",
        "\n",
        "x = Flatten()(x)\n",
        "\n",
        "x = Dense(128,activation='relu',name = 'Dense_1')(x)\n",
        "x = Dense(512,activation='sigmoid',name = 'Dense_2')(x)\n",
        "x = Dense(1024,activation='sigmoid',name = 'Dense_3')(x)\n",
        "\n",
        "outputs = Dense(256, activation = 'relu', name='CNN_2')(x)\n",
        "model = Model(inputs, outputs)\n",
        "model.summary()"
      ],
      "metadata": {
        "colab": {
          "base_uri": "https://localhost:8080/"
        },
        "id": "CQrw_Q0BYcar",
        "outputId": "4effc5b0-a093-4276-d726-4a058b403b02"
      },
      "execution_count": 14,
      "outputs": [
        {
          "output_type": "stream",
          "name": "stdout",
          "text": [
            "Model: \"model_5\"\n",
            "_________________________________________________________________\n",
            " Layer (type)                Output Shape              Param #   \n",
            "=================================================================\n",
            " input_9 (InputLayer)        [(None, 200, 200, 3)]     0         \n",
            "                                                                 \n",
            " conv2d_68 (Conv2D)          (None, 200, 200, 64)      3136      \n",
            "                                                                 \n",
            " conv2d_69 (Conv2D)          (None, 200, 200, 64)      65600     \n",
            "                                                                 \n",
            " conv2d_70 (Conv2D)          (None, 200, 200, 64)      65600     \n",
            "                                                                 \n",
            " max_pooling2d_26 (MaxPooli  (None, 100, 100, 64)      0         \n",
            " ng2D)                                                           \n",
            "                                                                 \n",
            " conv2d_71 (Conv2D)          (None, 100, 100, 128)     131200    \n",
            "                                                                 \n",
            " conv2d_72 (Conv2D)          (None, 100, 100, 128)     262272    \n",
            "                                                                 \n",
            " conv2d_73 (Conv2D)          (None, 100, 100, 128)     262272    \n",
            "                                                                 \n",
            " max_pooling2d_27 (MaxPooli  (None, 50, 50, 128)       0         \n",
            " ng2D)                                                           \n",
            "                                                                 \n",
            " conv2d_74 (Conv2D)          (None, 50, 50, 512)       1049088   \n",
            "                                                                 \n",
            " conv2d_75 (Conv2D)          (None, 50, 50, 512)       4194816   \n",
            "                                                                 \n",
            " max_pooling2d_28 (MaxPooli  (None, 25, 25, 512)       0         \n",
            " ng2D)                                                           \n",
            "                                                                 \n",
            " conv2d_76 (Conv2D)          (None, 25, 25, 1024)      8389632   \n",
            "                                                                 \n",
            " conv2d_77 (Conv2D)          (None, 25, 25, 1024)      16778240  \n",
            "                                                                 \n",
            " conv2d_78 (Conv2D)          (None, 25, 25, 1024)      16778240  \n",
            "                                                                 \n",
            " max_pooling2d_29 (MaxPooli  (None, 12, 12, 1024)      0         \n",
            " ng2D)                                                           \n",
            "                                                                 \n",
            " flatten_6 (Flatten)         (None, 147456)            0         \n",
            "                                                                 \n",
            " Dense_1 (Dense)             (None, 128)               18874496  \n",
            "                                                                 \n",
            " Dense_2 (Dense)             (None, 512)               66048     \n",
            "                                                                 \n",
            " Dense_3 (Dense)             (None, 1024)              525312    \n",
            "                                                                 \n",
            " CNN_2 (Dense)               (None, 256)               262400    \n",
            "                                                                 \n",
            "=================================================================\n",
            "Total params: 67708352 (258.29 MB)\n",
            "Trainable params: 67708352 (258.29 MB)\n",
            "Non-trainable params: 0 (0.00 Byte)\n",
            "_________________________________________________________________\n"
          ]
        }
      ]
    }
  ]
}